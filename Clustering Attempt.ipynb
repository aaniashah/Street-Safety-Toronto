{
 "cells": [
  {
   "cell_type": "code",
   "execution_count": 3,
   "id": "9925059c",
   "metadata": {},
   "outputs": [],
   "source": [
    "import pandas as pd\n",
    "import geopandas as gpd\n"
   ]
  },
  {
   "cell_type": "markdown",
   "id": "06157c85",
   "metadata": {},
   "source": [
    "# Loading Geodataframes for crime data"
   ]
  },
  {
   "cell_type": "code",
   "execution_count": 4,
   "id": "cd7cdb03",
   "metadata": {},
   "outputs": [],
   "source": [
    "# Major Crime Indicator Data\n",
    "\n",
    "shapefile_path_crime = 'Major_Crime_Indicators_Open_Data'\n",
    "\n",
    "# Read the shapefile (this will automatically read the associated .dbf file)\n",
    "crime_points = gpd.read_file(shapefile_path_crime + '.shp')\n"
   ]
  },
  {
   "cell_type": "code",
   "execution_count": 5,
   "id": "745e8ebc",
   "metadata": {},
   "outputs": [],
   "source": [
    "# Shooting Data\n",
    "\n",
    "# Replace 'your_shapefile.shp' with the actual path to your shapefile (without the extension)\n",
    "shapefile_path_shoot = 'Shooting_and_Firearm_Discharges_Open_Data'\n",
    "\n",
    "# Read the shapefile (this will automatically read the associated .dbf file)\n",
    "shooting = gpd.read_file(shapefile_path_shoot + '.shp')"
   ]
  },
  {
   "cell_type": "code",
   "execution_count": 6,
   "id": "1c466d9d",
   "metadata": {},
   "outputs": [],
   "source": [
    "# Homicide Data\n",
    "\n",
    "# Replace 'your_shapefile.shp' with the actual path to your shapefile (without the extension)\n",
    "shapefile_path_hom = 'Homicides_Open_Data_(ASR-RC-TBL-002)'\n",
    "\n",
    "# Read the shapefile (this will automatically read the associated .dbf file)\n",
    "homicide = gpd.read_file(shapefile_path_hom + '.shp')"
   ]
  },
  {
   "cell_type": "markdown",
   "id": "7c4a04dd",
   "metadata": {},
   "source": [
    "# Filtering Crime Data to Street Safety Related Crimes"
   ]
  },
  {
   "cell_type": "code",
   "execution_count": 17,
   "id": "464a359f",
   "metadata": {},
   "outputs": [],
   "source": [
    "crime_points = crime_points[crime_points[\"MCI_CATEGO\"].isin([\"Assault\",\"Robbery\"])]"
   ]
  },
  {
   "cell_type": "markdown",
   "id": "01bc6106",
   "metadata": {},
   "source": [
    "# Joining Homicide and Shooting Data with Crimes"
   ]
  },
  {
   "cell_type": "markdown",
   "id": "cdfcd8d1",
   "metadata": {},
   "source": [
    "## Checking which columns are common amongst all dataframes"
   ]
  },
  {
   "cell_type": "code",
   "execution_count": 34,
   "id": "c690aedc",
   "metadata": {},
   "outputs": [
    {
     "data": {
      "text/plain": [
       "['NEIGHBOU_1',\n",
       " 'OCC_YEAR',\n",
       " 'HOOD_140',\n",
       " 'OCC_DOW',\n",
       " 'DIVISION',\n",
       " 'EVENT_UNIQ',\n",
       " 'geometry',\n",
       " 'OCC_DAY',\n",
       " 'OCC_DATE',\n",
       " 'LAT_WGS84',\n",
       " 'LONG_WGS84',\n",
       " 'OCC_DOY',\n",
       " 'NEIGHBOURH',\n",
       " 'HOOD_158',\n",
       " 'OCC_MONTH',\n",
       " 'OBJECTID']"
      ]
     },
     "execution_count": 34,
     "metadata": {},
     "output_type": "execute_result"
    }
   ],
   "source": [
    "list(set(crime_points.columns).intersection(homicide.columns, shooting.columns))"
   ]
  },
  {
   "cell_type": "code",
   "execution_count": 35,
   "id": "2999cac0",
   "metadata": {},
   "outputs": [],
   "source": [
    "crime_join = crime_points[list(set(crime_points.columns).intersection(homicide.columns, shooting.columns))]\n",
    "hom_join = homicide[list(set(crime_points.columns).intersection(homicide.columns, shooting.columns))]\n",
    "shoot_join = shooting[list(set(crime_points.columns).intersection(homicide.columns, shooting.columns))]\n",
    "\n",
    "crimes = pd.concat([crime_join, hom_join, shoot_join], ignore_index=True)"
   ]
  },
  {
   "cell_type": "code",
   "execution_count": 36,
   "id": "bc4681e2",
   "metadata": {},
   "outputs": [
    {
     "data": {
      "text/html": [
       "<div>\n",
       "<style scoped>\n",
       "    .dataframe tbody tr th:only-of-type {\n",
       "        vertical-align: middle;\n",
       "    }\n",
       "\n",
       "    .dataframe tbody tr th {\n",
       "        vertical-align: top;\n",
       "    }\n",
       "\n",
       "    .dataframe thead th {\n",
       "        text-align: right;\n",
       "    }\n",
       "</style>\n",
       "<table border=\"1\" class=\"dataframe\">\n",
       "  <thead>\n",
       "    <tr style=\"text-align: right;\">\n",
       "      <th></th>\n",
       "      <th>NEIGHBOU_1</th>\n",
       "      <th>OCC_YEAR</th>\n",
       "      <th>HOOD_140</th>\n",
       "      <th>OCC_DOW</th>\n",
       "      <th>DIVISION</th>\n",
       "      <th>EVENT_UNIQ</th>\n",
       "      <th>geometry</th>\n",
       "      <th>OCC_DAY</th>\n",
       "      <th>OCC_DATE</th>\n",
       "      <th>LAT_WGS84</th>\n",
       "      <th>LONG_WGS84</th>\n",
       "      <th>OCC_DOY</th>\n",
       "      <th>NEIGHBOURH</th>\n",
       "      <th>HOOD_158</th>\n",
       "      <th>OCC_MONTH</th>\n",
       "      <th>OBJECTID</th>\n",
       "    </tr>\n",
       "  </thead>\n",
       "  <tbody>\n",
       "    <tr>\n",
       "      <th>0</th>\n",
       "      <td>Rosedale-Moore Park (98)</td>\n",
       "      <td>2014.0</td>\n",
       "      <td>98</td>\n",
       "      <td>Wednesday</td>\n",
       "      <td>D53</td>\n",
       "      <td>GO-20141265238</td>\n",
       "      <td>POINT (-8837009.381 5414637.989)</td>\n",
       "      <td>1.0</td>\n",
       "      <td>2014-01-01</td>\n",
       "      <td>43.670798</td>\n",
       "      <td>-79.384206</td>\n",
       "      <td>1.0</td>\n",
       "      <td>Rosedale-Moore Park</td>\n",
       "      <td>98</td>\n",
       "      <td>January</td>\n",
       "      <td>1</td>\n",
       "    </tr>\n",
       "    <tr>\n",
       "      <th>1</th>\n",
       "      <td>Thorncliffe Park (55)</td>\n",
       "      <td>2014.0</td>\n",
       "      <td>55</td>\n",
       "      <td>Wednesday</td>\n",
       "      <td>D53</td>\n",
       "      <td>GO-20141259834</td>\n",
       "      <td>POINT (-8832733.476 5419700.571)</td>\n",
       "      <td>1.0</td>\n",
       "      <td>2014-01-01</td>\n",
       "      <td>43.703684</td>\n",
       "      <td>-79.345795</td>\n",
       "      <td>1.0</td>\n",
       "      <td>Thorncliffe Park</td>\n",
       "      <td>55</td>\n",
       "      <td>January</td>\n",
       "      <td>2</td>\n",
       "    </tr>\n",
       "    <tr>\n",
       "      <th>2</th>\n",
       "      <td>Waterfront Communities-The Island (77)</td>\n",
       "      <td>2014.0</td>\n",
       "      <td>77</td>\n",
       "      <td>Wednesday</td>\n",
       "      <td>D52</td>\n",
       "      <td>GO-20141262027</td>\n",
       "      <td>POINT (-8836444.480 5410819.359)</td>\n",
       "      <td>1.0</td>\n",
       "      <td>2014-01-01</td>\n",
       "      <td>43.645981</td>\n",
       "      <td>-79.379131</td>\n",
       "      <td>1.0</td>\n",
       "      <td>St Lawrence-East Bayfront-The Islands</td>\n",
       "      <td>166</td>\n",
       "      <td>January</td>\n",
       "      <td>3</td>\n",
       "    </tr>\n",
       "    <tr>\n",
       "      <th>3</th>\n",
       "      <td>Bay Street Corridor (76)</td>\n",
       "      <td>2014.0</td>\n",
       "      <td>76</td>\n",
       "      <td>Wednesday</td>\n",
       "      <td>D52</td>\n",
       "      <td>GO-20141259951</td>\n",
       "      <td>POINT (-8836897.420 5412101.189)</td>\n",
       "      <td>1.0</td>\n",
       "      <td>2014-01-01</td>\n",
       "      <td>43.654313</td>\n",
       "      <td>-79.383200</td>\n",
       "      <td>1.0</td>\n",
       "      <td>Yonge-Bay Corridor</td>\n",
       "      <td>170</td>\n",
       "      <td>January</td>\n",
       "      <td>4</td>\n",
       "    </tr>\n",
       "    <tr>\n",
       "      <th>4</th>\n",
       "      <td>Downsview-Roding-CFB (26)</td>\n",
       "      <td>2014.0</td>\n",
       "      <td>26</td>\n",
       "      <td>Wednesday</td>\n",
       "      <td>D31</td>\n",
       "      <td>GO-20141261561</td>\n",
       "      <td>POINT (-8851435.343 5422186.195)</td>\n",
       "      <td>1.0</td>\n",
       "      <td>2014-01-01</td>\n",
       "      <td>43.719824</td>\n",
       "      <td>-79.513797</td>\n",
       "      <td>1.0</td>\n",
       "      <td>Oakdale-Beverley Heights</td>\n",
       "      <td>154</td>\n",
       "      <td>January</td>\n",
       "      <td>5</td>\n",
       "    </tr>\n",
       "    <tr>\n",
       "      <th>...</th>\n",
       "      <td>...</td>\n",
       "      <td>...</td>\n",
       "      <td>...</td>\n",
       "      <td>...</td>\n",
       "      <td>...</td>\n",
       "      <td>...</td>\n",
       "      <td>...</td>\n",
       "      <td>...</td>\n",
       "      <td>...</td>\n",
       "      <td>...</td>\n",
       "      <td>...</td>\n",
       "      <td>...</td>\n",
       "      <td>...</td>\n",
       "      <td>...</td>\n",
       "      <td>...</td>\n",
       "      <td>...</td>\n",
       "    </tr>\n",
       "    <tr>\n",
       "      <th>232208</th>\n",
       "      <td>Kensington-Chinatown (78)</td>\n",
       "      <td>2023.0</td>\n",
       "      <td>78</td>\n",
       "      <td>Saturday</td>\n",
       "      <td>D14</td>\n",
       "      <td>GO-2023602110</td>\n",
       "      <td>POINT (-8838833.625 5411111.786)</td>\n",
       "      <td>18.0</td>\n",
       "      <td>2023-03-18</td>\n",
       "      <td>43.647882</td>\n",
       "      <td>-79.400593</td>\n",
       "      <td>77.0</td>\n",
       "      <td>Kensington-Chinatown</td>\n",
       "      <td>78</td>\n",
       "      <td>March</td>\n",
       "      <td>5946</td>\n",
       "    </tr>\n",
       "    <tr>\n",
       "      <th>232209</th>\n",
       "      <td>Blake-Jones (69)</td>\n",
       "      <td>2023.0</td>\n",
       "      <td>69</td>\n",
       "      <td>Friday</td>\n",
       "      <td>D55</td>\n",
       "      <td>GO-20231811181</td>\n",
       "      <td>POINT (-8832025.174 5416055.479)</td>\n",
       "      <td>4.0</td>\n",
       "      <td>2023-08-04</td>\n",
       "      <td>43.680008</td>\n",
       "      <td>-79.339432</td>\n",
       "      <td>216.0</td>\n",
       "      <td>Blake-Jones</td>\n",
       "      <td>69</td>\n",
       "      <td>August</td>\n",
       "      <td>5947</td>\n",
       "    </tr>\n",
       "    <tr>\n",
       "      <th>232210</th>\n",
       "      <td>Rockcliffe-Smythe (111)</td>\n",
       "      <td>2023.0</td>\n",
       "      <td>111</td>\n",
       "      <td>Friday</td>\n",
       "      <td>D12</td>\n",
       "      <td>GO-20231873884</td>\n",
       "      <td>POINT (-8847820.740 5416594.779)</td>\n",
       "      <td>11.0</td>\n",
       "      <td>2023-08-11</td>\n",
       "      <td>43.683512</td>\n",
       "      <td>-79.481326</td>\n",
       "      <td>223.0</td>\n",
       "      <td>Rockcliffe-Smythe</td>\n",
       "      <td>111</td>\n",
       "      <td>August</td>\n",
       "      <td>5948</td>\n",
       "    </tr>\n",
       "    <tr>\n",
       "      <th>232211</th>\n",
       "      <td>West Hill (136)</td>\n",
       "      <td>2023.0</td>\n",
       "      <td>136</td>\n",
       "      <td>Saturday</td>\n",
       "      <td>D43</td>\n",
       "      <td>GO-20232284577</td>\n",
       "      <td>POINT (-8814969.936 5429671.668)</td>\n",
       "      <td>30.0</td>\n",
       "      <td>2023-09-30</td>\n",
       "      <td>43.768403</td>\n",
       "      <td>-79.186222</td>\n",
       "      <td>273.0</td>\n",
       "      <td>West Hill</td>\n",
       "      <td>136</td>\n",
       "      <td>September</td>\n",
       "      <td>5949</td>\n",
       "    </tr>\n",
       "    <tr>\n",
       "      <th>232212</th>\n",
       "      <td>Moss Park (73)</td>\n",
       "      <td>2023.0</td>\n",
       "      <td>73</td>\n",
       "      <td>Saturday</td>\n",
       "      <td>D51</td>\n",
       "      <td>GO-20232164179</td>\n",
       "      <td>POINT (-8835444.713 5413010.156)</td>\n",
       "      <td>16.0</td>\n",
       "      <td>2023-09-16</td>\n",
       "      <td>43.660220</td>\n",
       "      <td>-79.370150</td>\n",
       "      <td>259.0</td>\n",
       "      <td>Moss Park</td>\n",
       "      <td>73</td>\n",
       "      <td>September</td>\n",
       "      <td>5950</td>\n",
       "    </tr>\n",
       "  </tbody>\n",
       "</table>\n",
       "<p>232213 rows × 16 columns</p>\n",
       "</div>"
      ],
      "text/plain": [
       "                                    NEIGHBOU_1  OCC_YEAR HOOD_140    OCC_DOW  \\\n",
       "0                     Rosedale-Moore Park (98)    2014.0       98  Wednesday   \n",
       "1                        Thorncliffe Park (55)    2014.0       55  Wednesday   \n",
       "2       Waterfront Communities-The Island (77)    2014.0       77  Wednesday   \n",
       "3                     Bay Street Corridor (76)    2014.0       76  Wednesday   \n",
       "4                    Downsview-Roding-CFB (26)    2014.0       26  Wednesday   \n",
       "...                                        ...       ...      ...        ...   \n",
       "232208               Kensington-Chinatown (78)    2023.0       78   Saturday   \n",
       "232209                        Blake-Jones (69)    2023.0       69     Friday   \n",
       "232210                 Rockcliffe-Smythe (111)    2023.0      111     Friday   \n",
       "232211                         West Hill (136)    2023.0      136   Saturday   \n",
       "232212                          Moss Park (73)    2023.0       73   Saturday   \n",
       "\n",
       "       DIVISION      EVENT_UNIQ                          geometry  OCC_DAY  \\\n",
       "0           D53  GO-20141265238  POINT (-8837009.381 5414637.989)      1.0   \n",
       "1           D53  GO-20141259834  POINT (-8832733.476 5419700.571)      1.0   \n",
       "2           D52  GO-20141262027  POINT (-8836444.480 5410819.359)      1.0   \n",
       "3           D52  GO-20141259951  POINT (-8836897.420 5412101.189)      1.0   \n",
       "4           D31  GO-20141261561  POINT (-8851435.343 5422186.195)      1.0   \n",
       "...         ...             ...                               ...      ...   \n",
       "232208      D14   GO-2023602110  POINT (-8838833.625 5411111.786)     18.0   \n",
       "232209      D55  GO-20231811181  POINT (-8832025.174 5416055.479)      4.0   \n",
       "232210      D12  GO-20231873884  POINT (-8847820.740 5416594.779)     11.0   \n",
       "232211      D43  GO-20232284577  POINT (-8814969.936 5429671.668)     30.0   \n",
       "232212      D51  GO-20232164179  POINT (-8835444.713 5413010.156)     16.0   \n",
       "\n",
       "          OCC_DATE  LAT_WGS84  LONG_WGS84  OCC_DOY  \\\n",
       "0       2014-01-01  43.670798  -79.384206      1.0   \n",
       "1       2014-01-01  43.703684  -79.345795      1.0   \n",
       "2       2014-01-01  43.645981  -79.379131      1.0   \n",
       "3       2014-01-01  43.654313  -79.383200      1.0   \n",
       "4       2014-01-01  43.719824  -79.513797      1.0   \n",
       "...            ...        ...         ...      ...   \n",
       "232208  2023-03-18  43.647882  -79.400593     77.0   \n",
       "232209  2023-08-04  43.680008  -79.339432    216.0   \n",
       "232210  2023-08-11  43.683512  -79.481326    223.0   \n",
       "232211  2023-09-30  43.768403  -79.186222    273.0   \n",
       "232212  2023-09-16  43.660220  -79.370150    259.0   \n",
       "\n",
       "                                   NEIGHBOURH HOOD_158  OCC_MONTH  OBJECTID  \n",
       "0                         Rosedale-Moore Park       98    January         1  \n",
       "1                            Thorncliffe Park       55    January         2  \n",
       "2       St Lawrence-East Bayfront-The Islands      166    January         3  \n",
       "3                          Yonge-Bay Corridor      170    January         4  \n",
       "4                    Oakdale-Beverley Heights      154    January         5  \n",
       "...                                       ...      ...        ...       ...  \n",
       "232208                   Kensington-Chinatown       78      March      5946  \n",
       "232209                            Blake-Jones       69     August      5947  \n",
       "232210                      Rockcliffe-Smythe      111     August      5948  \n",
       "232211                              West Hill      136  September      5949  \n",
       "232212                              Moss Park       73  September      5950  \n",
       "\n",
       "[232213 rows x 16 columns]"
      ]
     },
     "execution_count": 36,
     "metadata": {},
     "output_type": "execute_result"
    }
   ],
   "source": [
    "crimes"
   ]
  },
  {
   "cell_type": "markdown",
   "id": "ff04f406",
   "metadata": {},
   "source": [
    "# Clustering the full crime dataset using DBSCAN"
   ]
  },
  {
   "cell_type": "markdown",
   "id": "1d06c802",
   "metadata": {},
   "source": [
    "## Checking the distribution of latlongs to remove blanks"
   ]
  },
  {
   "cell_type": "code",
   "execution_count": 37,
   "id": "7a39a5ba",
   "metadata": {},
   "outputs": [
    {
     "data": {
      "text/plain": [
       "LAT_WGS84\n",
       "0.000000     3290\n",
       "43.612078    1642\n",
       "43.656323     975\n",
       "43.654057     612\n",
       "43.778438     579\n",
       "             ... \n",
       "43.673420       1\n",
       "43.696733       1\n",
       "43.645045       1\n",
       "43.700847       1\n",
       "43.812723       1\n",
       "Name: count, Length: 18581, dtype: int64"
      ]
     },
     "execution_count": 37,
     "metadata": {},
     "output_type": "execute_result"
    }
   ],
   "source": [
    "crimes.LAT_WGS84.value_counts()"
   ]
  },
  {
   "cell_type": "markdown",
   "id": "80966219",
   "metadata": {},
   "source": [
    "Seems like there is a small proportion of blank latlongs"
   ]
  },
  {
   "cell_type": "code",
   "execution_count": 40,
   "id": "9f61c8b5",
   "metadata": {},
   "outputs": [],
   "source": [
    "crimes = crimes[crimes[\"LAT_WGS84\"]!=0]"
   ]
  },
  {
   "cell_type": "markdown",
   "id": "05f14659",
   "metadata": {},
   "source": [
    "## Display Crimes"
   ]
  },
  {
   "cell_type": "code",
   "execution_count": 42,
   "id": "67d3c75b",
   "metadata": {},
   "outputs": [
    {
     "name": "stdout",
     "output_type": "stream",
     "text": [
      "Collecting foliumNote: you may need to restart the kernel to use updated packages.\n",
      "\n",
      "  Obtaining dependency information for folium from https://files.pythonhosted.org/packages/18/09/8569904c8ce5679cc02826d98de633c07abcd2443a23181e5f71ff9dacbc/folium-0.15.1-py2.py3-none-any.whl.metadata\n",
      "  Downloading folium-0.15.1-py2.py3-none-any.whl.metadata (3.4 kB)\n",
      "Collecting branca>=0.6.0 (from folium)\n",
      "  Obtaining dependency information for branca>=0.6.0 from https://files.pythonhosted.org/packages/2f/e7/603b136221de923055716d23e3047da71f92e0d8ba2c4517ce49a54fe768/branca-0.7.0-py3-none-any.whl.metadata\n",
      "  Downloading branca-0.7.0-py3-none-any.whl.metadata (1.5 kB)\n",
      "Requirement already satisfied: jinja2>=2.9 in c:\\users\\onion\\anaconda3\\lib\\site-packages (from folium) (3.1.2)\n",
      "Requirement already satisfied: numpy in c:\\users\\onion\\anaconda3\\lib\\site-packages (from folium) (1.24.3)\n",
      "Requirement already satisfied: requests in c:\\users\\onion\\anaconda3\\lib\\site-packages (from folium) (2.31.0)\n",
      "Requirement already satisfied: xyzservices in c:\\users\\onion\\anaconda3\\lib\\site-packages (from folium) (2022.9.0)\n",
      "Requirement already satisfied: MarkupSafe>=2.0 in c:\\users\\onion\\anaconda3\\lib\\site-packages (from jinja2>=2.9->folium) (2.1.1)\n",
      "Requirement already satisfied: charset-normalizer<4,>=2 in c:\\users\\onion\\anaconda3\\lib\\site-packages (from requests->folium) (2.0.4)\n",
      "Requirement already satisfied: idna<4,>=2.5 in c:\\users\\onion\\anaconda3\\lib\\site-packages (from requests->folium) (3.4)\n",
      "Requirement already satisfied: urllib3<3,>=1.21.1 in c:\\users\\onion\\anaconda3\\lib\\site-packages (from requests->folium) (1.26.16)\n",
      "Requirement already satisfied: certifi>=2017.4.17 in c:\\users\\onion\\anaconda3\\lib\\site-packages (from requests->folium) (2023.7.22)\n",
      "Downloading folium-0.15.1-py2.py3-none-any.whl (97 kB)\n",
      "   ---------------------------------------- 0.0/97.0 kB ? eta -:--:--\n",
      "   ---------------------------------------- 0.0/97.0 kB ? eta -:--:--\n",
      "   ---------------------------------------- 0.0/97.0 kB ? eta -:--:--\n",
      "   ---- ----------------------------------- 10.2/97.0 kB ? eta -:--:--\n",
      "   ------------ --------------------------- 30.7/97.0 kB 330.3 kB/s eta 0:00:01\n",
      "   ---------------- ----------------------- 41.0/97.0 kB 330.3 kB/s eta 0:00:01\n",
      "   ------------------------------------- -- 92.2/97.0 kB 525.1 kB/s eta 0:00:01\n",
      "   ---------------------------------------- 97.0/97.0 kB 507.6 kB/s eta 0:00:00\n",
      "Downloading branca-0.7.0-py3-none-any.whl (25 kB)\n",
      "Installing collected packages: branca, folium\n",
      "Successfully installed branca-0.7.0 folium-0.15.1\n"
     ]
    }
   ],
   "source": [
    "pip install folium"
   ]
  },
  {
   "cell_type": "code",
   "execution_count": 47,
   "id": "df215d22",
   "metadata": {},
   "outputs": [
    {
     "data": {
      "text/plain": [
       "OCC_YEAR\n",
       "2019.0    24786\n",
       "2022.0    24016\n",
       "2018.0    23918\n",
       "2017.0    23848\n",
       "2016.0    23029\n",
       "2015.0    21851\n",
       "2021.0    21482\n",
       "2020.0    21402\n",
       "2014.0    20503\n",
       "2023.0    20011\n",
       "2013.0      676\n",
       "2012.0      459\n",
       "2010.0      403\n",
       "2011.0      394\n",
       "2009.0      379\n",
       "2005.0      363\n",
       "2008.0      347\n",
       "2007.0      319\n",
       "2006.0      300\n",
       "2004.0      275\n",
       "2000.0       19\n",
       "2001.0       19\n",
       "2002.0       16\n",
       "2003.0       16\n",
       "Name: count, dtype: int64"
      ]
     },
     "execution_count": 47,
     "metadata": {},
     "output_type": "execute_result"
    }
   ],
   "source": [
    "crimes.OCC_YEAR.value_counts()"
   ]
  },
  {
   "cell_type": "code",
   "execution_count": 48,
   "id": "1349adcb",
   "metadata": {},
   "outputs": [],
   "source": [
    "crimes_5year = crimes[crimes[\"OCC_YEAR\"]>2017]"
   ]
  },
  {
   "cell_type": "code",
   "execution_count": 51,
   "id": "d5c449ba",
   "metadata": {},
   "outputs": [],
   "source": [
    "crimes_5year = crimes_5year.reset_index()"
   ]
  },
  {
   "cell_type": "markdown",
   "id": "34b702b9",
   "metadata": {},
   "source": [
    "## Performing Clustering"
   ]
  },
  {
   "cell_type": "code",
   "execution_count": null,
   "id": "c6eadc1c",
   "metadata": {},
   "outputs": [],
   "source": [
    "def haversine_distance(lon1, lat1, lon2, lat2,**kwargs):\n",
    "    \"\"\"\n",
    "    Calculate the great circle distance between two points\n",
    "    on the earth (specified in decimal degrees)\n",
    "    All args must be of equal length.\n",
    "    \n",
    "    Sourced from https://stackoverflow.com/a/29546836/11637704\n",
    "    \n",
    "    Thanks to derricw!\n",
    "    \"\"\"\n",
    "    lon1, lat1, lon2, lat2 = map(np.radians, [lon1, lat1, lon2, lat2])\n",
    "\n",
    "    dlon = lon2 - lon1\n",
    "    dlat = lat2 - lat1\n",
    "\n",
    "    a = np.sin(dlat/2.0)**2 + np.cos(lat1) * np.cos(lat2) * np.sin(dlon/2.0)**2\n",
    "\n",
    "    c = 2 * np.arcsin(np.sqrt(a))\n",
    "    km = 6367 * c\n",
    "    return km"
   ]
  },
  {
   "cell_type": "code",
   "execution_count": 55,
   "id": "6e4c81b9",
   "metadata": {},
   "outputs": [],
   "source": [
    "from sklearn.cluster import DBSCAN\n",
    "import numpy as np\n",
    "\n",
    "def dbscan_cluster(latitudes,longitudes,epsilon,min_samples,**kwargs):\n",
    "    '''\n",
    "    Function to perform DBSCAN clustering for given parameters.\n",
    "    \n",
    "    '''\n",
    "    \n",
    "    # convert epsilon from km to radians\n",
    "    kms_per_radian = 6371.0088\n",
    "    epsilon /= kms_per_radian\n",
    "    \n",
    "    # set up the algorithm\n",
    "    dbscan = DBSCAN(\n",
    "        eps = epsilon,\n",
    "        min_samples = min_samples,\n",
    "        algorithm = 'ball_tree',\n",
    "        metric = 'haversine',\n",
    "        **kwargs\n",
    "    )\n",
    "    \n",
    "    # fit the algorithm\n",
    "    dbscan.fit(\n",
    "        np.radians(\n",
    "            [x for x in zip(latitudes,longitudes)]\n",
    "        )\n",
    "    )\n",
    "    \n",
    "    # return the cluster labels\n",
    "    return pd.Series(dbscan.labels_)"
   ]
  },
  {
   "cell_type": "code",
   "execution_count": null,
   "id": "15da83d8",
   "metadata": {},
   "outputs": [],
   "source": [
    "def vertex_centroid_distance(latitudes,longitudes,**kwargs):\n",
    "    '''\n",
    "    Function to calculate the average distance from the vertices of a convex hull\n",
    "    (derived from latitude x longitude pairs) to the centroid of said convex hull.\n",
    "    \n",
    "    Centroid is taken to be the unweighted average of all co-ordinate pairs.\n",
    "    \n",
    "    '''\n",
    "    \n",
    "    # co-ordinates of centre\n",
    "    # take a simple average\n",
    "    centre_long = longitudes.mean()\n",
    "    centre_lats = latitudes.mean()\n",
    "    \n",
    "    # collapse two points into line\n",
    "    if len(latitudes) < 3:\n",
    "        distances = haversine_distance(\n",
    "            longitudes,\n",
    "            latitudes,\n",
    "            centre_long,\n",
    "            centre_lats,\n",
    "            **kwargs).mean()\n",
    "    \n",
    "    else:\n",
    "        # convex hull\n",
    "        convex_hull = ConvexHull([x for x in zip(latitudes,longitudes)],**kwargs)\n",
    "\n",
    "        # now get co-ordinates of vertices\n",
    "        vertex_longs = longitudes.iloc[convex_hull.vertices]\n",
    "        vertex_lats = latitudes.iloc[convex_hull.vertices]\n",
    "\n",
    "        # now get\n",
    "        distances = haversine_distance(\n",
    "            vertex_longs,\n",
    "            vertex_lats,\n",
    "            centre_long,\n",
    "            centre_lats,\n",
    "            **kwargs).mean()\n",
    "\n",
    "    # return average distance\n",
    "    return distances.mean()"
   ]
  },
  {
   "cell_type": "code",
   "execution_count": 58,
   "id": "7d1c5cf2",
   "metadata": {},
   "outputs": [
    {
     "data": {
      "text/plain": [
       "0        0\n",
       "1        0\n",
       "2        0\n",
       "3        0\n",
       "4        0\n",
       "        ..\n",
       "65504    0\n",
       "65505    0\n",
       "65506    0\n",
       "65507    0\n",
       "65508    0\n",
       "Length: 65509, dtype: int64"
      ]
     },
     "execution_count": 58,
     "metadata": {},
     "output_type": "execute_result"
    }
   ],
   "source": [
    "dbscan_cluster(crimes[crimes[\"OCC_YEAR\"]>2020][\"LAT_WGS84\"],crimes[crimes[\"OCC_YEAR\"]>2020][\"LONG_WGS84\"],5,8)"
   ]
  },
  {
   "cell_type": "code",
   "execution_count": 59,
   "id": "25e7076e",
   "metadata": {},
   "outputs": [],
   "source": [
    "from sklearn.cluster import KMeans"
   ]
  },
  {
   "cell_type": "code",
   "execution_count": 61,
   "id": "8778b20b",
   "metadata": {},
   "outputs": [],
   "source": [
    "kms_per_radian = 6371.0088"
   ]
  },
  {
   "cell_type": "code",
   "execution_count": 65,
   "id": "de8b2290",
   "metadata": {},
   "outputs": [],
   "source": [
    "# import necessary modules\n",
    "import pandas as pd, numpy as np, matplotlib.pyplot as plt, time\n",
    "from sklearn.cluster import DBSCAN\n",
    "from geopy.distance import great_circle\n",
    "from shapely.geometry import MultiPoint\n",
    "from datetime import datetime as dt\n",
    "\n",
    "# magic command to display matplotlib plots inline within the ipython notebook\n",
    "%matplotlib inline"
   ]
  },
  {
   "cell_type": "code",
   "execution_count": 69,
   "id": "a9d19f3b",
   "metadata": {},
   "outputs": [],
   "source": [
    "df_crime = pd.DataFrame(crimes.drop(columns='geometry'))"
   ]
  },
  {
   "cell_type": "code",
   "execution_count": 72,
   "id": "c50b57fb",
   "metadata": {},
   "outputs": [
    {
     "ename": "AttributeError",
     "evalue": "'DataFrame' object has no attribute 'as_matrix'",
     "output_type": "error",
     "traceback": [
      "\u001b[1;31m---------------------------------------------------------------------------\u001b[0m",
      "\u001b[1;31mAttributeError\u001b[0m                            Traceback (most recent call last)",
      "\u001b[1;32m~\\AppData\\Local\\Temp\\ipykernel_4680\\1975668906.py\u001b[0m in \u001b[0;36m?\u001b[1;34m()\u001b[0m\n\u001b[1;32m----> 1\u001b[1;33m \u001b[0mdf_crime\u001b[0m\u001b[1;33m.\u001b[0m\u001b[0mas_matrix\u001b[0m\u001b[1;33m(\u001b[0m\u001b[0mcolumns\u001b[0m\u001b[1;33m=\u001b[0m\u001b[1;33m[\u001b[0m\u001b[1;34m\"LAT_WGS84\"\u001b[0m\u001b[1;33m,\u001b[0m \u001b[1;34m\"LONG_WGS84\"\u001b[0m\u001b[1;33m]\u001b[0m\u001b[1;33m)\u001b[0m\u001b[1;33m\u001b[0m\u001b[1;33m\u001b[0m\u001b[0m\n\u001b[0m",
      "\u001b[1;32m~\\anaconda3\\Lib\\site-packages\\pandas\\core\\generic.py\u001b[0m in \u001b[0;36m?\u001b[1;34m(self, name)\u001b[0m\n\u001b[0;32m   5985\u001b[0m             \u001b[1;32mand\u001b[0m \u001b[0mname\u001b[0m \u001b[1;32mnot\u001b[0m \u001b[1;32min\u001b[0m \u001b[0mself\u001b[0m\u001b[1;33m.\u001b[0m\u001b[0m_accessors\u001b[0m\u001b[1;33m\u001b[0m\u001b[1;33m\u001b[0m\u001b[0m\n\u001b[0;32m   5986\u001b[0m             \u001b[1;32mand\u001b[0m \u001b[0mself\u001b[0m\u001b[1;33m.\u001b[0m\u001b[0m_info_axis\u001b[0m\u001b[1;33m.\u001b[0m\u001b[0m_can_hold_identifiers_and_holds_name\u001b[0m\u001b[1;33m(\u001b[0m\u001b[0mname\u001b[0m\u001b[1;33m)\u001b[0m\u001b[1;33m\u001b[0m\u001b[1;33m\u001b[0m\u001b[0m\n\u001b[0;32m   5987\u001b[0m         ):\n\u001b[0;32m   5988\u001b[0m             \u001b[1;32mreturn\u001b[0m \u001b[0mself\u001b[0m\u001b[1;33m[\u001b[0m\u001b[0mname\u001b[0m\u001b[1;33m]\u001b[0m\u001b[1;33m\u001b[0m\u001b[1;33m\u001b[0m\u001b[0m\n\u001b[1;32m-> 5989\u001b[1;33m         \u001b[1;32mreturn\u001b[0m \u001b[0mobject\u001b[0m\u001b[1;33m.\u001b[0m\u001b[0m__getattribute__\u001b[0m\u001b[1;33m(\u001b[0m\u001b[0mself\u001b[0m\u001b[1;33m,\u001b[0m \u001b[0mname\u001b[0m\u001b[1;33m)\u001b[0m\u001b[1;33m\u001b[0m\u001b[1;33m\u001b[0m\u001b[0m\n\u001b[0m",
      "\u001b[1;31mAttributeError\u001b[0m: 'DataFrame' object has no attribute 'as_matrix'"
     ]
    }
   ],
   "source": [
    "df_crime.as_matrix(columns=[\"LAT_WGS84\", \"LONG_WGS84\"])"
   ]
  },
  {
   "cell_type": "code",
   "execution_count": 66,
   "id": "0f01a2aa",
   "metadata": {},
   "outputs": [],
   "source": [
    "from sklearn.cluster import DBSCAN\n",
    "import numpy as np\n",
    "\n",
    "def dbscan_reduce(df, epsilon, x='LONG_WGS84', y='LAT_WGS84'):\n",
    "    start_time = time.time()\n",
    "    # represent points consistently as (lat, lon) and convert to radians to fit using haversine metric\n",
    "    coords = df.as_matrix(columns=[\"LAT_WGS84\", \"LONG_WGS84\"])    \n",
    "    db = DBSCAN(eps=epsilon, min_samples=1, algorithm='ball_tree', metric='haversine').fit(np.radians(coords))\n",
    "    cluster_labels = db.labels_\n",
    "    num_clusters = len(set(cluster_labels))\n",
    "    print('Number of clusters: {:,}'.format(num_clusters))\n",
    "    \n",
    "    clusters = pd.Series([coords[cluster_labels==n] for n in range(num_clusters)])\n",
    "    \n",
    "    # find the point in each cluster that is closest to its centroid\n",
    "    centermost_points = clusters.map(get_centermost_point)\n",
    "\n",
    "    # unzip the list of centermost points (lat, lon) tuples into separate lat and lon lists\n",
    "    lats, lons = zip(*centermost_points)\n",
    "    rep_points = pd.DataFrame({x:lons, y:lats})\n",
    "    rep_points.tail()\n",
    "    \n",
    "    # pull row from original data set where lat/lon match the lat/lon of each row of representative points\n",
    "    rs = rep_points.apply(lambda row: df[(df[y]==row[y]) & (df[x]==row[x])].iloc[0], axis=1)\n",
    "    \n",
    "    # all done, print outcome\n",
    "    message = 'Clustered {:,} points down to {:,} points, for {:.2f}% compression in {:,.2f} seconds.'\n",
    "    print(message.format(len(df), len(rs), 100*(1 - float(len(rs)) / len(df)), time.time()-start_time))    \n",
    "    return rs"
   ]
  },
  {
   "cell_type": "code",
   "execution_count": 70,
   "id": "8833cb14",
   "metadata": {},
   "outputs": [
    {
     "ename": "AttributeError",
     "evalue": "'DataFrame' object has no attribute 'as_matrix'",
     "output_type": "error",
     "traceback": [
      "\u001b[1;31m---------------------------------------------------------------------------\u001b[0m",
      "\u001b[1;31mAttributeError\u001b[0m                            Traceback (most recent call last)",
      "\u001b[1;32m~\\AppData\\Local\\Temp\\ipykernel_4680\\4001370509.py\u001b[0m in \u001b[0;36m?\u001b[1;34m()\u001b[0m\n\u001b[0;32m      1\u001b[0m \u001b[0meps_rad\u001b[0m \u001b[1;33m=\u001b[0m \u001b[1;36m5\u001b[0m \u001b[1;33m/\u001b[0m \u001b[0mkms_per_radian\u001b[0m\u001b[1;33m\u001b[0m\u001b[1;33m\u001b[0m\u001b[0m\n\u001b[1;32m----> 2\u001b[1;33m \u001b[0mdf_clustered\u001b[0m \u001b[1;33m=\u001b[0m \u001b[0mdbscan_reduce\u001b[0m\u001b[1;33m(\u001b[0m\u001b[0mdf_crime\u001b[0m\u001b[1;33m[\u001b[0m\u001b[0mdf_crime\u001b[0m\u001b[1;33m[\u001b[0m\u001b[1;34m\"OCC_YEAR\"\u001b[0m\u001b[1;33m]\u001b[0m\u001b[1;33m>\u001b[0m\u001b[1;36m2020\u001b[0m\u001b[1;33m]\u001b[0m\u001b[1;33m,\u001b[0m \u001b[0mepsilon\u001b[0m\u001b[1;33m=\u001b[0m\u001b[0meps_rad\u001b[0m\u001b[1;33m)\u001b[0m\u001b[1;33m\u001b[0m\u001b[1;33m\u001b[0m\u001b[0m\n\u001b[0m",
      "\u001b[1;32m~\\AppData\\Local\\Temp\\ipykernel_4680\\247773113.py\u001b[0m in \u001b[0;36m?\u001b[1;34m(df, epsilon, x, y)\u001b[0m\n\u001b[0;32m      4\u001b[0m \u001b[1;32mdef\u001b[0m \u001b[0mdbscan_reduce\u001b[0m\u001b[1;33m(\u001b[0m\u001b[0mdf\u001b[0m\u001b[1;33m,\u001b[0m \u001b[0mepsilon\u001b[0m\u001b[1;33m,\u001b[0m \u001b[0mx\u001b[0m\u001b[1;33m=\u001b[0m\u001b[1;34m'LONG_WGS84'\u001b[0m\u001b[1;33m,\u001b[0m \u001b[0my\u001b[0m\u001b[1;33m=\u001b[0m\u001b[1;34m'LAT_WGS84'\u001b[0m\u001b[1;33m)\u001b[0m\u001b[1;33m:\u001b[0m\u001b[1;33m\u001b[0m\u001b[1;33m\u001b[0m\u001b[0m\n\u001b[0;32m      5\u001b[0m     \u001b[0mstart_time\u001b[0m \u001b[1;33m=\u001b[0m \u001b[0mtime\u001b[0m\u001b[1;33m.\u001b[0m\u001b[0mtime\u001b[0m\u001b[1;33m(\u001b[0m\u001b[1;33m)\u001b[0m\u001b[1;33m\u001b[0m\u001b[1;33m\u001b[0m\u001b[0m\n\u001b[0;32m      6\u001b[0m     \u001b[1;31m# represent points consistently as (lat, lon) and convert to radians to fit using haversine metric\u001b[0m\u001b[1;33m\u001b[0m\u001b[1;33m\u001b[0m\u001b[0m\n\u001b[1;32m----> 7\u001b[1;33m     \u001b[0mcoords\u001b[0m \u001b[1;33m=\u001b[0m \u001b[0mdf\u001b[0m\u001b[1;33m.\u001b[0m\u001b[0mas_matrix\u001b[0m\u001b[1;33m(\u001b[0m\u001b[0mcolumns\u001b[0m\u001b[1;33m=\u001b[0m\u001b[1;33m[\u001b[0m\u001b[0my\u001b[0m\u001b[1;33m,\u001b[0m \u001b[0mx\u001b[0m\u001b[1;33m]\u001b[0m\u001b[1;33m)\u001b[0m\u001b[1;33m\u001b[0m\u001b[1;33m\u001b[0m\u001b[0m\n\u001b[0m\u001b[0;32m      8\u001b[0m     \u001b[0mdb\u001b[0m \u001b[1;33m=\u001b[0m \u001b[0mDBSCAN\u001b[0m\u001b[1;33m(\u001b[0m\u001b[0meps\u001b[0m\u001b[1;33m=\u001b[0m\u001b[0mepsilon\u001b[0m\u001b[1;33m,\u001b[0m \u001b[0mmin_samples\u001b[0m\u001b[1;33m=\u001b[0m\u001b[1;36m1\u001b[0m\u001b[1;33m,\u001b[0m \u001b[0malgorithm\u001b[0m\u001b[1;33m=\u001b[0m\u001b[1;34m'ball_tree'\u001b[0m\u001b[1;33m,\u001b[0m \u001b[0mmetric\u001b[0m\u001b[1;33m=\u001b[0m\u001b[1;34m'haversine'\u001b[0m\u001b[1;33m)\u001b[0m\u001b[1;33m.\u001b[0m\u001b[0mfit\u001b[0m\u001b[1;33m(\u001b[0m\u001b[0mnp\u001b[0m\u001b[1;33m.\u001b[0m\u001b[0mradians\u001b[0m\u001b[1;33m(\u001b[0m\u001b[0mcoords\u001b[0m\u001b[1;33m)\u001b[0m\u001b[1;33m)\u001b[0m\u001b[1;33m\u001b[0m\u001b[1;33m\u001b[0m\u001b[0m\n\u001b[0;32m      9\u001b[0m     \u001b[0mcluster_labels\u001b[0m \u001b[1;33m=\u001b[0m \u001b[0mdb\u001b[0m\u001b[1;33m.\u001b[0m\u001b[0mlabels_\u001b[0m\u001b[1;33m\u001b[0m\u001b[1;33m\u001b[0m\u001b[0m\n\u001b[0;32m     10\u001b[0m     \u001b[0mnum_clusters\u001b[0m \u001b[1;33m=\u001b[0m \u001b[0mlen\u001b[0m\u001b[1;33m(\u001b[0m\u001b[0mset\u001b[0m\u001b[1;33m(\u001b[0m\u001b[0mcluster_labels\u001b[0m\u001b[1;33m)\u001b[0m\u001b[1;33m)\u001b[0m\u001b[1;33m\u001b[0m\u001b[1;33m\u001b[0m\u001b[0m\n",
      "\u001b[1;32m~\\anaconda3\\Lib\\site-packages\\pandas\\core\\generic.py\u001b[0m in \u001b[0;36m?\u001b[1;34m(self, name)\u001b[0m\n\u001b[0;32m   5985\u001b[0m             \u001b[1;32mand\u001b[0m \u001b[0mname\u001b[0m \u001b[1;32mnot\u001b[0m \u001b[1;32min\u001b[0m \u001b[0mself\u001b[0m\u001b[1;33m.\u001b[0m\u001b[0m_accessors\u001b[0m\u001b[1;33m\u001b[0m\u001b[1;33m\u001b[0m\u001b[0m\n\u001b[0;32m   5986\u001b[0m             \u001b[1;32mand\u001b[0m \u001b[0mself\u001b[0m\u001b[1;33m.\u001b[0m\u001b[0m_info_axis\u001b[0m\u001b[1;33m.\u001b[0m\u001b[0m_can_hold_identifiers_and_holds_name\u001b[0m\u001b[1;33m(\u001b[0m\u001b[0mname\u001b[0m\u001b[1;33m)\u001b[0m\u001b[1;33m\u001b[0m\u001b[1;33m\u001b[0m\u001b[0m\n\u001b[0;32m   5987\u001b[0m         ):\n\u001b[0;32m   5988\u001b[0m             \u001b[1;32mreturn\u001b[0m \u001b[0mself\u001b[0m\u001b[1;33m[\u001b[0m\u001b[0mname\u001b[0m\u001b[1;33m]\u001b[0m\u001b[1;33m\u001b[0m\u001b[1;33m\u001b[0m\u001b[0m\n\u001b[1;32m-> 5989\u001b[1;33m         \u001b[1;32mreturn\u001b[0m \u001b[0mobject\u001b[0m\u001b[1;33m.\u001b[0m\u001b[0m__getattribute__\u001b[0m\u001b[1;33m(\u001b[0m\u001b[0mself\u001b[0m\u001b[1;33m,\u001b[0m \u001b[0mname\u001b[0m\u001b[1;33m)\u001b[0m\u001b[1;33m\u001b[0m\u001b[1;33m\u001b[0m\u001b[0m\n\u001b[0m",
      "\u001b[1;31mAttributeError\u001b[0m: 'DataFrame' object has no attribute 'as_matrix'"
     ]
    }
   ],
   "source": [
    "\n",
    "df_clustered = dbscan_reduce(df_crime[df_crime[\"OCC_YEAR\"]>2020], epsilon=eps_rad)"
   ]
  },
  {
   "cell_type": "code",
   "execution_count": 74,
   "id": "54b8ab1c",
   "metadata": {},
   "outputs": [],
   "source": [
    "coords = df_crime[df_crime[\"OCC_YEAR\"]>2020][[\"LAT_WGS84\",\"LONG_WGS84\"]].to_numpy()   \n"
   ]
  },
  {
   "cell_type": "code",
   "execution_count": 98,
   "id": "778a9581",
   "metadata": {},
   "outputs": [],
   "source": [
    "eps_rad = 10 / 6371.0088"
   ]
  },
  {
   "cell_type": "code",
   "execution_count": 86,
   "id": "aad038ab",
   "metadata": {},
   "outputs": [],
   "source": [
    "db = DBSCAN(eps=eps_rad, min_samples=10, algorithm='ball_tree', metric='haversine').fit_predict(np.radians(coords))"
   ]
  },
  {
   "cell_type": "code",
   "execution_count": 99,
   "id": "2d60fc9f",
   "metadata": {},
   "outputs": [
    {
     "ename": "MemoryError",
     "evalue": "bad allocation",
     "output_type": "error",
     "traceback": [
      "\u001b[1;31m---------------------------------------------------------------------------\u001b[0m",
      "\u001b[1;31mMemoryError\u001b[0m                               Traceback (most recent call last)",
      "Cell \u001b[1;32mIn[99], line 1\u001b[0m\n\u001b[1;32m----> 1\u001b[0m db_1 \u001b[38;5;241m=\u001b[39m DBSCAN(eps\u001b[38;5;241m=\u001b[39meps_rad, min_samples\u001b[38;5;241m=\u001b[39m\u001b[38;5;241m10\u001b[39m, algorithm\u001b[38;5;241m=\u001b[39m\u001b[38;5;124m'\u001b[39m\u001b[38;5;124mball_tree\u001b[39m\u001b[38;5;124m'\u001b[39m, metric\u001b[38;5;241m=\u001b[39m\u001b[38;5;124m'\u001b[39m\u001b[38;5;124mhaversine\u001b[39m\u001b[38;5;124m'\u001b[39m)\u001b[38;5;241m.\u001b[39mfit(np\u001b[38;5;241m.\u001b[39mradians(coords))\n",
      "File \u001b[1;32m~\\anaconda3\\Lib\\site-packages\\sklearn\\base.py:1151\u001b[0m, in \u001b[0;36m_fit_context.<locals>.decorator.<locals>.wrapper\u001b[1;34m(estimator, *args, **kwargs)\u001b[0m\n\u001b[0;32m   1144\u001b[0m     estimator\u001b[38;5;241m.\u001b[39m_validate_params()\n\u001b[0;32m   1146\u001b[0m \u001b[38;5;28;01mwith\u001b[39;00m config_context(\n\u001b[0;32m   1147\u001b[0m     skip_parameter_validation\u001b[38;5;241m=\u001b[39m(\n\u001b[0;32m   1148\u001b[0m         prefer_skip_nested_validation \u001b[38;5;129;01mor\u001b[39;00m global_skip_validation\n\u001b[0;32m   1149\u001b[0m     )\n\u001b[0;32m   1150\u001b[0m ):\n\u001b[1;32m-> 1151\u001b[0m     \u001b[38;5;28;01mreturn\u001b[39;00m fit_method(estimator, \u001b[38;5;241m*\u001b[39margs, \u001b[38;5;241m*\u001b[39m\u001b[38;5;241m*\u001b[39mkwargs)\n",
      "File \u001b[1;32m~\\anaconda3\\Lib\\site-packages\\sklearn\\cluster\\_dbscan.py:410\u001b[0m, in \u001b[0;36mDBSCAN.fit\u001b[1;34m(self, X, y, sample_weight)\u001b[0m\n\u001b[0;32m    408\u001b[0m \u001b[38;5;66;03m# A list of all core samples found.\u001b[39;00m\n\u001b[0;32m    409\u001b[0m core_samples \u001b[38;5;241m=\u001b[39m np\u001b[38;5;241m.\u001b[39masarray(n_neighbors \u001b[38;5;241m>\u001b[39m\u001b[38;5;241m=\u001b[39m \u001b[38;5;28mself\u001b[39m\u001b[38;5;241m.\u001b[39mmin_samples, dtype\u001b[38;5;241m=\u001b[39mnp\u001b[38;5;241m.\u001b[39muint8)\n\u001b[1;32m--> 410\u001b[0m dbscan_inner(core_samples, neighborhoods, labels)\n\u001b[0;32m    412\u001b[0m \u001b[38;5;28mself\u001b[39m\u001b[38;5;241m.\u001b[39mcore_sample_indices_ \u001b[38;5;241m=\u001b[39m np\u001b[38;5;241m.\u001b[39mwhere(core_samples)[\u001b[38;5;241m0\u001b[39m]\n\u001b[0;32m    413\u001b[0m \u001b[38;5;28mself\u001b[39m\u001b[38;5;241m.\u001b[39mlabels_ \u001b[38;5;241m=\u001b[39m labels\n",
      "File \u001b[1;32msklearn\\cluster\\_dbscan_inner.pyx:34\u001b[0m, in \u001b[0;36msklearn.cluster._dbscan_inner.dbscan_inner\u001b[1;34m()\u001b[0m\n",
      "\u001b[1;31mMemoryError\u001b[0m: bad allocation"
     ]
    }
   ],
   "source": [
    "db_1 = DBSCAN(eps=eps_rad, min_samples=1, algorithm='ball_tree', metric='haversine').fit(np.radians(coords))"
   ]
  },
  {
   "cell_type": "code",
   "execution_count": null,
   "id": "6ddaeb35",
   "metadata": {},
   "outputs": [],
   "source": [
    "db_1.labels_"
   ]
  },
  {
   "cell_type": "code",
   "execution_count": 87,
   "id": "27413524",
   "metadata": {},
   "outputs": [
    {
     "data": {
      "text/plain": [
       "array([-1,  0,  1,  2], dtype=int64)"
      ]
     },
     "execution_count": 87,
     "metadata": {},
     "output_type": "execute_result"
    }
   ],
   "source": [
    "np.unique(db)"
   ]
  },
  {
   "cell_type": "code",
   "execution_count": 91,
   "id": "192f8d2e",
   "metadata": {},
   "outputs": [],
   "source": [
    "labels = db"
   ]
  },
  {
   "cell_type": "code",
   "execution_count": 88,
   "id": "65d58748",
   "metadata": {},
   "outputs": [],
   "source": [
    "df = df_crime.copy()"
   ]
  },
  {
   "cell_type": "code",
   "execution_count": 89,
   "id": "6cb18f0a",
   "metadata": {},
   "outputs": [],
   "source": [
    "df = df[[\"LAT_WGS84\",\"LONG_WGS84\"]]"
   ]
  },
  {
   "cell_type": "code",
   "execution_count": 92,
   "id": "814f0a61",
   "metadata": {},
   "outputs": [
    {
     "ename": "InvalidIndexError",
     "evalue": "(array([False, False, False, ..., False, False, False]), 0)",
     "output_type": "error",
     "traceback": [
      "\u001b[1;31m---------------------------------------------------------------------------\u001b[0m",
      "\u001b[1;31mTypeError\u001b[0m                                 Traceback (most recent call last)",
      "File \u001b[1;32m~\\anaconda3\\Lib\\site-packages\\pandas\\core\\indexes\\base.py:3653\u001b[0m, in \u001b[0;36mIndex.get_loc\u001b[1;34m(self, key)\u001b[0m\n\u001b[0;32m   3652\u001b[0m \u001b[38;5;28;01mtry\u001b[39;00m:\n\u001b[1;32m-> 3653\u001b[0m     \u001b[38;5;28;01mreturn\u001b[39;00m \u001b[38;5;28mself\u001b[39m\u001b[38;5;241m.\u001b[39m_engine\u001b[38;5;241m.\u001b[39mget_loc(casted_key)\n\u001b[0;32m   3654\u001b[0m \u001b[38;5;28;01mexcept\u001b[39;00m \u001b[38;5;167;01mKeyError\u001b[39;00m \u001b[38;5;28;01mas\u001b[39;00m err:\n",
      "File \u001b[1;32m~\\anaconda3\\Lib\\site-packages\\pandas\\_libs\\index.pyx:147\u001b[0m, in \u001b[0;36mpandas._libs.index.IndexEngine.get_loc\u001b[1;34m()\u001b[0m\n",
      "File \u001b[1;32m~\\anaconda3\\Lib\\site-packages\\pandas\\_libs\\index.pyx:153\u001b[0m, in \u001b[0;36mpandas._libs.index.IndexEngine.get_loc\u001b[1;34m()\u001b[0m\n",
      "\u001b[1;31mTypeError\u001b[0m: '(array([False, False, False, ..., False, False, False]), 0)' is an invalid key",
      "\nDuring handling of the above exception, another exception occurred:\n",
      "\u001b[1;31mInvalidIndexError\u001b[0m                         Traceback (most recent call last)",
      "Cell \u001b[1;32mIn[92], line 2\u001b[0m\n\u001b[0;32m      1\u001b[0m \u001b[38;5;66;03m# Visualising the clusters\u001b[39;00m\n\u001b[1;32m----> 2\u001b[0m plt\u001b[38;5;241m.\u001b[39mscatter(df[labels \u001b[38;5;241m==\u001b[39m \u001b[38;5;241m-\u001b[39m\u001b[38;5;241m1\u001b[39m, \u001b[38;5;241m0\u001b[39m], df[labels \u001b[38;5;241m==\u001b[39m \u001b[38;5;241m-\u001b[39m\u001b[38;5;241m1\u001b[39m, \u001b[38;5;241m1\u001b[39m], s \u001b[38;5;241m=\u001b[39m \u001b[38;5;241m10\u001b[39m, c \u001b[38;5;241m=\u001b[39m \u001b[38;5;124m'\u001b[39m\u001b[38;5;124mblack\u001b[39m\u001b[38;5;124m'\u001b[39m) \n\u001b[0;32m      4\u001b[0m plt\u001b[38;5;241m.\u001b[39mscatter(df[labels \u001b[38;5;241m==\u001b[39m \u001b[38;5;241m0\u001b[39m, \u001b[38;5;241m0\u001b[39m], df[labels \u001b[38;5;241m==\u001b[39m \u001b[38;5;241m0\u001b[39m, \u001b[38;5;241m1\u001b[39m], s \u001b[38;5;241m=\u001b[39m \u001b[38;5;241m10\u001b[39m, c \u001b[38;5;241m=\u001b[39m \u001b[38;5;124m'\u001b[39m\u001b[38;5;124mblue\u001b[39m\u001b[38;5;124m'\u001b[39m)\n\u001b[0;32m      5\u001b[0m plt\u001b[38;5;241m.\u001b[39mscatter(df[labels \u001b[38;5;241m==\u001b[39m \u001b[38;5;241m1\u001b[39m, \u001b[38;5;241m0\u001b[39m], df[labels \u001b[38;5;241m==\u001b[39m \u001b[38;5;241m1\u001b[39m, \u001b[38;5;241m1\u001b[39m], s \u001b[38;5;241m=\u001b[39m \u001b[38;5;241m10\u001b[39m, c \u001b[38;5;241m=\u001b[39m \u001b[38;5;124m'\u001b[39m\u001b[38;5;124mred\u001b[39m\u001b[38;5;124m'\u001b[39m)\n",
      "File \u001b[1;32m~\\anaconda3\\Lib\\site-packages\\pandas\\core\\frame.py:3761\u001b[0m, in \u001b[0;36mDataFrame.__getitem__\u001b[1;34m(self, key)\u001b[0m\n\u001b[0;32m   3759\u001b[0m \u001b[38;5;28;01mif\u001b[39;00m \u001b[38;5;28mself\u001b[39m\u001b[38;5;241m.\u001b[39mcolumns\u001b[38;5;241m.\u001b[39mnlevels \u001b[38;5;241m>\u001b[39m \u001b[38;5;241m1\u001b[39m:\n\u001b[0;32m   3760\u001b[0m     \u001b[38;5;28;01mreturn\u001b[39;00m \u001b[38;5;28mself\u001b[39m\u001b[38;5;241m.\u001b[39m_getitem_multilevel(key)\n\u001b[1;32m-> 3761\u001b[0m indexer \u001b[38;5;241m=\u001b[39m \u001b[38;5;28mself\u001b[39m\u001b[38;5;241m.\u001b[39mcolumns\u001b[38;5;241m.\u001b[39mget_loc(key)\n\u001b[0;32m   3762\u001b[0m \u001b[38;5;28;01mif\u001b[39;00m is_integer(indexer):\n\u001b[0;32m   3763\u001b[0m     indexer \u001b[38;5;241m=\u001b[39m [indexer]\n",
      "File \u001b[1;32m~\\anaconda3\\Lib\\site-packages\\pandas\\core\\indexes\\base.py:3660\u001b[0m, in \u001b[0;36mIndex.get_loc\u001b[1;34m(self, key)\u001b[0m\n\u001b[0;32m   3655\u001b[0m     \u001b[38;5;28;01mraise\u001b[39;00m \u001b[38;5;167;01mKeyError\u001b[39;00m(key) \u001b[38;5;28;01mfrom\u001b[39;00m \u001b[38;5;21;01merr\u001b[39;00m\n\u001b[0;32m   3656\u001b[0m \u001b[38;5;28;01mexcept\u001b[39;00m \u001b[38;5;167;01mTypeError\u001b[39;00m:\n\u001b[0;32m   3657\u001b[0m     \u001b[38;5;66;03m# If we have a listlike key, _check_indexing_error will raise\u001b[39;00m\n\u001b[0;32m   3658\u001b[0m     \u001b[38;5;66;03m#  InvalidIndexError. Otherwise we fall through and re-raise\u001b[39;00m\n\u001b[0;32m   3659\u001b[0m     \u001b[38;5;66;03m#  the TypeError.\u001b[39;00m\n\u001b[1;32m-> 3660\u001b[0m     \u001b[38;5;28mself\u001b[39m\u001b[38;5;241m.\u001b[39m_check_indexing_error(key)\n\u001b[0;32m   3661\u001b[0m     \u001b[38;5;28;01mraise\u001b[39;00m\n",
      "File \u001b[1;32m~\\anaconda3\\Lib\\site-packages\\pandas\\core\\indexes\\base.py:5737\u001b[0m, in \u001b[0;36mIndex._check_indexing_error\u001b[1;34m(self, key)\u001b[0m\n\u001b[0;32m   5733\u001b[0m \u001b[38;5;28;01mdef\u001b[39;00m \u001b[38;5;21m_check_indexing_error\u001b[39m(\u001b[38;5;28mself\u001b[39m, key):\n\u001b[0;32m   5734\u001b[0m     \u001b[38;5;28;01mif\u001b[39;00m \u001b[38;5;129;01mnot\u001b[39;00m is_scalar(key):\n\u001b[0;32m   5735\u001b[0m         \u001b[38;5;66;03m# if key is not a scalar, directly raise an error (the code below\u001b[39;00m\n\u001b[0;32m   5736\u001b[0m         \u001b[38;5;66;03m# would convert to numpy arrays and raise later any way) - GH29926\u001b[39;00m\n\u001b[1;32m-> 5737\u001b[0m         \u001b[38;5;28;01mraise\u001b[39;00m InvalidIndexError(key)\n",
      "\u001b[1;31mInvalidIndexError\u001b[0m: (array([False, False, False, ..., False, False, False]), 0)"
     ]
    }
   ],
   "source": [
    "# Visualising the clusters\n",
    "plt.scatter(df[labels == -1, 0], df[labels == -1, 1], s = 10, c = 'black') \n",
    "\n",
    "plt.scatter(df[labels == 0, 0], df[labels == 0, 1], s = 10, c = 'blue')\n",
    "plt.scatter(df[labels == 1, 0], df[labels == 1, 1], s = 10, c = 'red')\n",
    "plt.scatter(df[labels == 2, 0], df[labels == 2, 1], s = 10, c = 'green')\n",
    "plt.scatter(df[labels == 3, 0], df[labels == 3, 1], s = 10, c = 'brown')\n",
    "plt.scatter(df[labels == 4, 0], df[labels == 4, 1], s = 10, c = 'pink')\n",
    "plt.scatter(df[labels == 5, 0], df[labels == 5, 1], s = 10, c = 'yellow')      \n",
    "plt.scatter(df[labels == 6, 0], df[labels == 6, 1], s = 10, c = 'silver')\n",
    "\n",
    "plt.xlabel('Annual Income')\n",
    "plt.ylabel('Spending Score')\n",
    "plt.show()"
   ]
  },
  {
   "cell_type": "code",
   "execution_count": 78,
   "id": "13d44cc3",
   "metadata": {},
   "outputs": [
    {
     "data": {
      "text/plain": [
       "['__annotations__',\n",
       " '__class__',\n",
       " '__delattr__',\n",
       " '__dict__',\n",
       " '__dir__',\n",
       " '__doc__',\n",
       " '__eq__',\n",
       " '__format__',\n",
       " '__ge__',\n",
       " '__getattribute__',\n",
       " '__getstate__',\n",
       " '__gt__',\n",
       " '__hash__',\n",
       " '__init__',\n",
       " '__init_subclass__',\n",
       " '__le__',\n",
       " '__lt__',\n",
       " '__module__',\n",
       " '__ne__',\n",
       " '__new__',\n",
       " '__reduce__',\n",
       " '__reduce_ex__',\n",
       " '__repr__',\n",
       " '__setattr__',\n",
       " '__setstate__',\n",
       " '__sizeof__',\n",
       " '__sklearn_clone__',\n",
       " '__str__',\n",
       " '__subclasshook__',\n",
       " '__weakref__',\n",
       " '_build_request_for_signature',\n",
       " '_check_feature_names',\n",
       " '_check_n_features',\n",
       " '_estimator_type',\n",
       " '_get_default_requests',\n",
       " '_get_metadata_request',\n",
       " '_get_param_names',\n",
       " '_get_tags',\n",
       " '_more_tags',\n",
       " '_parameter_constraints',\n",
       " '_repr_html_',\n",
       " '_repr_html_inner',\n",
       " '_repr_mimebundle_',\n",
       " '_validate_data',\n",
       " '_validate_params',\n",
       " 'algorithm',\n",
       " 'components_',\n",
       " 'core_sample_indices_',\n",
       " 'eps',\n",
       " 'fit',\n",
       " 'fit_predict',\n",
       " 'get_metadata_routing',\n",
       " 'get_params',\n",
       " 'labels_',\n",
       " 'leaf_size',\n",
       " 'metric',\n",
       " 'metric_params',\n",
       " 'min_samples',\n",
       " 'n_features_in_',\n",
       " 'n_jobs',\n",
       " 'p',\n",
       " 'set_fit_request',\n",
       " 'set_params']"
      ]
     },
     "execution_count": 78,
     "metadata": {},
     "output_type": "execute_result"
    }
   ],
   "source": [
    "dir(db)"
   ]
  },
  {
   "cell_type": "code",
   "execution_count": 81,
   "id": "76d7e3f1",
   "metadata": {},
   "outputs": [
    {
     "data": {
      "text/plain": [
       "array([    0,     1,     2, ..., 65506, 65507, 65508], dtype=int64)"
      ]
     },
     "execution_count": 81,
     "metadata": {},
     "output_type": "execute_result"
    }
   ],
   "source": [
    "db.core_sample_indices_"
   ]
  },
  {
   "cell_type": "code",
   "execution_count": null,
   "id": "cc10f48f",
   "metadata": {},
   "outputs": [],
   "source": []
  }
 ],
 "metadata": {
  "kernelspec": {
   "display_name": "Python 3 (ipykernel)",
   "language": "python",
   "name": "python3"
  },
  "language_info": {
   "codemirror_mode": {
    "name": "ipython",
    "version": 3
   },
   "file_extension": ".py",
   "mimetype": "text/x-python",
   "name": "python",
   "nbconvert_exporter": "python",
   "pygments_lexer": "ipython3",
   "version": "3.11.5"
  }
 },
 "nbformat": 4,
 "nbformat_minor": 5
}
